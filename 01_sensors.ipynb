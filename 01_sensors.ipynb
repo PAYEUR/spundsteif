{
 "cells": [
  {
   "cell_type": "code",
   "execution_count": null,
   "metadata": {},
   "outputs": [
    {
     "name": "stdout",
     "output_type": "stream",
     "text": [
      "Drive already mounted at /content/drive; to attempt to forcibly remount, call drive.mount(\"/content/drive\", force_remount=True).\n",
      "[Errno 2] No such file or directory: 'drive/MyDrive/spundsteif/'\n",
      "/content/drive/MyDrive/spundsteif/spundsteif\n",
      "\u001b[31mERROR: File \"setup.py\" or \"setup.cfg\" not found. Directory cannot be installed in editable mode: /content/drive/My Drive/spundsteif/spundsteif\u001b[0m\n"
     ]
    }
   ],
   "source": [
    "from google.colab import drive\n",
    "drive.mount('/content/drive')\n",
    "%cd 'drive/MyDrive/spundsteif/spundsteif'\n",
    "!pip3 install -e . -q\n",
    "!pip3 install nbdev -q"
   ]
  },
  {
   "cell_type": "code",
   "execution_count": null,
   "metadata": {},
   "outputs": [],
   "source": [
    "# default_exp sensors"
   ]
  },
  {
   "cell_type": "markdown",
   "metadata": {},
   "source": [
    "# Sensors\n",
    "> This library transforms raw data from sensor measurements into cleaned database.  \n",
    "> Some functions aiming a graphical check of measurements are also available.  \n",
    "--- \n",
    "**Inputs:**  \n",
    "+ un ensemble de fichiers brutes des stations de mesures sous format ASCI: `'1_messung_xxx.ASC'`; \n",
    "+ un fichier CSV des relevés manuels `'df_hand.csv'`; \n",
    "+ *(#TO DO) `'df_evolution.csv'` contient l'évolution de l'état de fonctionnement des capteurs ;*\n",
    "\n",
    "**Outputs:**  \n",
    "+  `df_messung` : base de données regroupant les valeurs renvoyées par les capteurs de pression (*EDS*), jauges de déformation (*DMS*) et thermomètres, relevées manuellement **et** de manière semi-continue\n",
    "\n",
    "----\n",
    "**Metadata:**  \n",
    "+ les caractéristiques géométriques de l'installation des capteurs, informations contenues dans `'df_proprietes.csv'` ;\n"
   ]
  },
  {
   "cell_type": "code",
   "execution_count": null,
   "metadata": {},
   "outputs": [],
   "source": [
    "#hide\n",
    "from nbdev.showdoc import *"
   ]
  },
  {
   "cell_type": "code",
   "execution_count": null,
   "metadata": {},
   "outputs": [
    {
     "name": "stdout",
     "output_type": "stream",
     "text": [
      "core.py  __init__.py  _nbdev.py  \u001b[0m\u001b[01;34m__pycache__\u001b[0m/  sensors.py\n"
     ]
    }
   ],
   "source": [
    "%ls"
   ]
  },
  {
   "cell_type": "code",
   "execution_count": null,
   "metadata": {},
   "outputs": [
    {
     "name": "stdout",
     "output_type": "stream",
     "text": [
      "Converted 01_sensors.ipynb.\n",
      "Converted index.ipynb.\n",
      "The following paths are ignored by one of your .gitignore files:\n",
      "spundsteif/__pycache__\n",
      "Use -f if you really want to add them.\n",
      "On branch master\n",
      "Your branch is ahead of 'origin/master' by 1 commit.\n",
      "  (use \"git push\" to publish your local commits)\n",
      "\n",
      "Changes not staged for commit:\n",
      "\t\u001b[31mdeleted:    ../00_core.ipynb\u001b[m\n",
      "\n",
      "Untracked files:\n",
      "\t\u001b[31m../01_sensors.ipynb\u001b[m\n",
      "\t\u001b[31m../Makefile\u001b[m\n",
      "\t\u001b[31m../docs/_config.yml\u001b[m\n",
      "\t\u001b[31m../docs/_data/\u001b[m\n",
      "\n",
      "no changes added to commit\n",
      "fatal: could not read Username for 'https://github.com': No such device or address\n"
     ]
    }
   ],
   "source": [
    "#hide\n",
    "!nbdev_build_lib"
   ]
  }
 ],
 "metadata": {
  "kernelspec": {
   "display_name": "Python 3",
   "language": "python",
   "name": "python3"
  }
 },
 "nbformat": 4,
 "nbformat_minor": 0
}
