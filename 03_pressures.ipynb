{
 "cells": [
  {
   "cell_type": "code",
   "execution_count": null,
   "metadata": {},
   "outputs": [
    {
     "name": "stdout",
     "output_type": "stream",
     "text": [
      "Mounted at /content/drive\n",
      "/content/drive/MyDrive/spundsteif/spundsteif\n",
      "\u001b[31mERROR: File \"setup.py\" or \"setup.cfg\" not found. Directory cannot be installed in editable mode: /content/drive/MyDrive/spundsteif/spundsteif\u001b[0m\n",
      "\u001b[K     |████████████████████████████████| 46 kB 2.6 MB/s \n",
      "\u001b[K     |████████████████████████████████| 51 kB 309 kB/s \n",
      "\u001b[K     |████████████████████████████████| 56 kB 3.9 MB/s \n",
      "\u001b[?25h/content/drive/MyDrive/spundsteif\n"
     ]
    }
   ],
   "source": [
    "#hide\n",
    "#test_flag_colab\n",
    "from google.colab import drive\n",
    "drive.mount('/content/drive')\n",
    "\n",
    "%cd '/content/drive/MyDrive/spundsteif/spundsteif'\n",
    "!pip3 install -e . -q\n",
    "!pip3 install nbdev -q\n",
    "\n",
    "#working directory: drive/MyDrive/spundsteif\n",
    "%cd ..\n",
    "\n",
    "%load_ext autoreload\n",
    "%autoreload 2"
   ]
  },
  {
   "cell_type": "code",
   "execution_count": null,
   "metadata": {},
   "outputs": [],
   "source": [
    "# default_exp pressures"
   ]
  },
  {
   "cell_type": "markdown",
   "metadata": {},
   "source": [
    "# Library pressures\n",
    "> This library gives the earth pressure distribution along the sheet piles from the total stress given by the sensors and the piezometer data.  \n",
    "> Some functions aiming a graphical check of measurements are also available.  \n",
    "--- \n",
    "**Inputs:**  \n",
    "+ `df_messung`: dataframe of the measurements from sensors\n",
    "+ `df_piezo.csv`: csv file of the groudwater level\n",
    "+ `df_excavation.csv`: csv file of the stage of excavation\n",
    "\n",
    "**Outputs:**  \n",
    "+ `df_pressures` : total, effective stresses and waterpressure along the sheetpiles.\n"
   ]
  },
  {
   "cell_type": "markdown",
   "metadata": {},
   "source": [
    "## Importation des bibliothèques"
   ]
  },
  {
   "cell_type": "code",
   "execution_count": null,
   "metadata": {},
   "outputs": [],
   "source": [
    "#export\n",
    "import pandas as pd\n",
    "import numpy\n",
    "import io\n",
    "import csv\n",
    "from datetime import datetime\n",
    "\n",
    "from google.colab import files\n",
    "\n",
    "from copy import copy\n",
    "\n",
    "from datetime import timedelta\n",
    "from datetime import datetime\n",
    "\n",
    "import plotly.express as px\n",
    "import plotly.graph_objects as go \n",
    "\n",
    "import numpy as np\n",
    "\n",
    "from spundsteif import sensors"
   ]
  },
  {
   "cell_type": "markdown",
   "metadata": {},
   "source": [
    "## Test setup"
   ]
  },
  {
   "cell_type": "markdown",
   "metadata": {},
   "source": [
    "### Test files"
   ]
  },
  {
   "cell_type": "code",
   "execution_count": null,
   "metadata": {},
   "outputs": [],
   "source": [
    "PIEZO_FILE_NAME_TEST = './test/df_piezo_test.csv'\n",
    "EXCAVATION_FILE_NAME_TEST = './test/df_excavation_stage_test.csv'\n",
    "\n",
    "# Files needed to get df_measured_pressure\n",
    "STRUCTURE_DATA = './test/1_structure_file.txt'\n",
    "\n",
    "TESTS_FILES_NAMES = ['./test/1_data_test_01.ASC',\n",
    "                     './test/1_data_test_02.txt',\n",
    "                     './test/1_data_test_03.txt',\n",
    "                     './test/1_data_test_04.ASC'\n",
    "                     ]\n",
    "\n",
    "TEST_HAND = './test/df_hand_test.csv'"
   ]
  },
  {
   "cell_type": "markdown",
   "metadata": {},
   "source": [
    "### Measured pressure\n"
   ]
  },
  {
   "cell_type": "code",
   "execution_count": null,
   "metadata": {},
   "outputs": [],
   "source": [
    "df_measured_pressure = sensors.get_data(list_files_names=TESTS_FILES_NAMES,\n",
    "                                        structure_data=STRUCTURE_DATA, \n",
    "                                        file_name_df_hand=TEST_HAND)\n",
    "\n",
    "df_measured_pressure = df_measured_pressure.loc[:,df_measured_pressure.columns.str.startswith('EDS')]"
   ]
  },
  {
   "cell_type": "code",
   "execution_count": null,
   "metadata": {},
   "outputs": [
    {
     "data": {
      "text/html": [
       "<div>\n",
       "<style scoped>\n",
       "    .dataframe tbody tr th:only-of-type {\n",
       "        vertical-align: middle;\n",
       "    }\n",
       "\n",
       "    .dataframe tbody tr th {\n",
       "        vertical-align: top;\n",
       "    }\n",
       "\n",
       "    .dataframe thead th {\n",
       "        text-align: right;\n",
       "    }\n",
       "</style>\n",
       "<table border=\"1\" class=\"dataframe\">\n",
       "  <thead>\n",
       "    <tr style=\"text-align: right;\">\n",
       "      <th></th>\n",
       "      <th>EDS_A</th>\n",
       "      <th>EDS_B</th>\n",
       "      <th>EDS_C</th>\n",
       "      <th>EDS_D</th>\n",
       "      <th>EDS_E</th>\n",
       "      <th>EDS_F</th>\n",
       "      <th>EDS_G</th>\n",
       "    </tr>\n",
       "  </thead>\n",
       "  <tbody>\n",
       "    <tr>\n",
       "      <th>2021-07-14 21:28:43.201370</th>\n",
       "      <td>-0.008392</td>\n",
       "      <td>0.443348</td>\n",
       "      <td>1.770932</td>\n",
       "      <td>-1.0</td>\n",
       "      <td>-0.013005</td>\n",
       "      <td>-6.332109</td>\n",
       "      <td>0.583440</td>\n",
       "    </tr>\n",
       "    <tr>\n",
       "      <th>2021-07-12 03:26:24.418810</th>\n",
       "      <td>-0.020542</td>\n",
       "      <td>-1.000000</td>\n",
       "      <td>-0.043438</td>\n",
       "      <td>-1.0</td>\n",
       "      <td>-0.013147</td>\n",
       "      <td>-6.065709</td>\n",
       "      <td>5.753562</td>\n",
       "    </tr>\n",
       "    <tr>\n",
       "      <th>2021-07-18 17:30:11.417100</th>\n",
       "      <td>0.011385</td>\n",
       "      <td>1.370416</td>\n",
       "      <td>2.557907</td>\n",
       "      <td>-1.0</td>\n",
       "      <td>0.001380</td>\n",
       "      <td>-6.130448</td>\n",
       "      <td>-3.851498</td>\n",
       "    </tr>\n",
       "    <tr>\n",
       "      <th>2021-07-15 19:29:03.205130</th>\n",
       "      <td>-0.003976</td>\n",
       "      <td>-1.000000</td>\n",
       "      <td>2.221444</td>\n",
       "      <td>-1.0</td>\n",
       "      <td>-0.013358</td>\n",
       "      <td>-6.334587</td>\n",
       "      <td>-1.914825</td>\n",
       "    </tr>\n",
       "    <tr>\n",
       "      <th>2021-07-08 19:25:08.005130</th>\n",
       "      <td>-0.015499</td>\n",
       "      <td>3.369134</td>\n",
       "      <td>-0.038738</td>\n",
       "      <td>-1.0</td>\n",
       "      <td>0.003474</td>\n",
       "      <td>-6.159601</td>\n",
       "      <td>-0.020800</td>\n",
       "    </tr>\n",
       "    <tr>\n",
       "      <th>2021-07-20 13:30:52.624630</th>\n",
       "      <td>0.017093</td>\n",
       "      <td>4.470687</td>\n",
       "      <td>2.422170</td>\n",
       "      <td>-1.0</td>\n",
       "      <td>0.000345</td>\n",
       "      <td>-6.302468</td>\n",
       "      <td>-4.388151</td>\n",
       "    </tr>\n",
       "    <tr>\n",
       "      <th>2021-08-18 00:00:00.000000</th>\n",
       "      <td>NaN</td>\n",
       "      <td>NaN</td>\n",
       "      <td>NaN</td>\n",
       "      <td>NaN</td>\n",
       "      <td>NaN</td>\n",
       "      <td>NaN</td>\n",
       "      <td>NaN</td>\n",
       "    </tr>\n",
       "    <tr>\n",
       "      <th>2021-07-19 13:30:29.620520</th>\n",
       "      <td>0.018375</td>\n",
       "      <td>4.841653</td>\n",
       "      <td>2.529231</td>\n",
       "      <td>-1.0</td>\n",
       "      <td>0.004594</td>\n",
       "      <td>-6.092389</td>\n",
       "      <td>-3.946954</td>\n",
       "    </tr>\n",
       "    <tr>\n",
       "      <th>2021-07-17 15:29:46.812660</th>\n",
       "      <td>0.010717</td>\n",
       "      <td>0.998889</td>\n",
       "      <td>2.490023</td>\n",
       "      <td>-1.0</td>\n",
       "      <td>0.006505</td>\n",
       "      <td>-6.300282</td>\n",
       "      <td>-3.930138</td>\n",
       "    </tr>\n",
       "    <tr>\n",
       "      <th>2021-07-08 14:25:04.204280</th>\n",
       "      <td>0.007363</td>\n",
       "      <td>1.635157</td>\n",
       "      <td>-0.019435</td>\n",
       "      <td>-1.0</td>\n",
       "      <td>0.025754</td>\n",
       "      <td>-6.187036</td>\n",
       "      <td>-0.024776</td>\n",
       "    </tr>\n",
       "  </tbody>\n",
       "</table>\n",
       "</div>"
      ],
      "text/plain": [
       "                               EDS_A     EDS_B  ...     EDS_F     EDS_G\n",
       "2021-07-14 21:28:43.201370 -0.008392  0.443348  ... -6.332109  0.583440\n",
       "2021-07-12 03:26:24.418810 -0.020542 -1.000000  ... -6.065709  5.753562\n",
       "2021-07-18 17:30:11.417100  0.011385  1.370416  ... -6.130448 -3.851498\n",
       "2021-07-15 19:29:03.205130 -0.003976 -1.000000  ... -6.334587 -1.914825\n",
       "2021-07-08 19:25:08.005130 -0.015499  3.369134  ... -6.159601 -0.020800\n",
       "2021-07-20 13:30:52.624630  0.017093  4.470687  ... -6.302468 -4.388151\n",
       "2021-08-18 00:00:00.000000       NaN       NaN  ...       NaN       NaN\n",
       "2021-07-19 13:30:29.620520  0.018375  4.841653  ... -6.092389 -3.946954\n",
       "2021-07-17 15:29:46.812660  0.010717  0.998889  ... -6.300282 -3.930138\n",
       "2021-07-08 14:25:04.204280  0.007363  1.635157  ... -6.187036 -0.024776\n",
       "\n",
       "[10 rows x 7 columns]"
      ]
     },
     "execution_count": null,
     "metadata": {},
     "output_type": "execute_result"
    }
   ],
   "source": [
    "df_measured_pressure.sample(10, random_state=0)"
   ]
  },
  {
   "cell_type": "markdown",
   "metadata": {},
   "source": [
    "## Read files"
   ]
  },
  {
   "cell_type": "markdown",
   "metadata": {},
   "source": [
    "### Read raw data"
   ]
  },
  {
   "cell_type": "code",
   "execution_count": null,
   "metadata": {},
   "outputs": [
    {
     "name": "stdout",
     "output_type": "stream",
     "text": [
      "Converted 01_sensors.ipynb.\n",
      "Converted 02_inclinometers.ipynb.\n",
      "Converted index.ipynb.\n"
     ]
    }
   ],
   "source": [
    "#hide\n",
    "from nbdev.export import notebook2script; notebook2script()"
   ]
  }
 ],
 "metadata": {
  "kernelspec": {
   "display_name": "Python 3",
   "language": "python",
   "name": "python3"
  }
 },
 "nbformat": 4,
 "nbformat_minor": 0
}
