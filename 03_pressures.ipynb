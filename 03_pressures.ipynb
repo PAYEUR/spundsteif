{
 "cells": [
  {
   "cell_type": "code",
   "execution_count": null,
   "metadata": {},
   "outputs": [
    {
     "name": "stdout",
     "output_type": "stream",
     "text": [
      "Drive already mounted at /content/drive; to attempt to forcibly remount, call drive.mount(\"/content/drive\", force_remount=True).\n",
      "/content/drive/MyDrive/spundsteif/spundsteif\n",
      "\u001b[31mERROR: File \"setup.py\" or \"setup.cfg\" not found. Directory cannot be installed in editable mode: /content/drive/MyDrive/spundsteif/spundsteif\u001b[0m\n",
      "/content/drive/My Drive/spundsteif\n",
      "The autoreload extension is already loaded. To reload it, use:\n",
      "  %reload_ext autoreload\n"
     ]
    }
   ],
   "source": [
    "#hide\n",
    "#test_flag_colab\n",
    "from google.colab import drive\n",
    "drive.mount('/content/drive')\n",
    "\n",
    "%cd '/content/drive/MyDrive/spundsteif/spundsteif'\n",
    "!pip3 install -e . -q\n",
    "!pip3 install nbdev -q\n",
    "\n",
    "#working directory: drive/MyDrive/spundsteif\n",
    "%cd ..\n",
    "\n",
    "%load_ext autoreload\n",
    "%autoreload 2"
   ]
  },
  {
   "cell_type": "code",
   "execution_count": null,
   "metadata": {},
   "outputs": [],
   "source": [
    "# default_exp pressures"
   ]
  },
  {
   "cell_type": "markdown",
   "metadata": {},
   "source": [
    "# Library pressures\n",
    "> This library gives the earth pressure distribution along the sheet piles from the total stress given by the sensors and the piezometer data.  \n",
    "> The computation of relative pressures compared to a given time is available.  \n",
    "> Some functions aiming a graphical check of measurements are also available.  \n",
    "--- \n",
    "**Inputs:**  \n",
    "+ `df_messung`: dataframe of the measurements from sensors\n",
    "+ `df_piezo.csv`: csv file of the groudwater level\n",
    "+ `df_excavation.csv`: csv file of the stage of excavation\n",
    "\n",
    "**Outputs:**  \n",
    "+ `df_pressures` : total, effective stresses and waterpressure along the sheetpiles.\n"
   ]
  },
  {
   "cell_type": "markdown",
   "metadata": {},
   "source": [
    "## Importation des bibliothèques"
   ]
  },
  {
   "cell_type": "code",
   "execution_count": null,
   "metadata": {},
   "outputs": [],
   "source": [
    "#export\n",
    "import pandas as pd\n",
    "import numpy\n",
    "import io\n",
    "import csv\n",
    "from datetime import datetime\n",
    "\n",
    "from google.colab import files\n",
    "\n",
    "from copy import copy\n",
    "\n",
    "from datetime import timedelta\n",
    "from datetime import datetime\n",
    "\n",
    "import plotly.express as px\n",
    "import plotly.graph_objects as go \n",
    "\n",
    "import numpy as np\n",
    "\n",
    "from spundsteif import sensors"
   ]
  },
  {
   "cell_type": "markdown",
   "metadata": {},
   "source": [
    "## Test setup"
   ]
  },
  {
   "cell_type": "markdown",
   "metadata": {},
   "source": [
    "### Test files"
   ]
  },
  {
   "cell_type": "code",
   "execution_count": null,
   "metadata": {},
   "outputs": [],
   "source": [
    "PIEZO_FILE_NAME_TEST = './test/df_piezo_test.csv'\n",
    "EXCAVATION_FILE_NAME_TEST = './test/df_excavation_stage_test.csv'\n",
    "\n",
    "# Files needed to get df_measured_pressure\n",
    "STRUCTURE_DATA = './test/1_structure_file.txt'\n",
    "\n",
    "TESTS_FILES_NAMES = ['./test/1_data_test_01.ASC',\n",
    "                     './test/1_data_test_02.txt',\n",
    "                     './test/1_data_test_03.txt',\n",
    "                     './test/1_data_test_04.ASC'\n",
    "                     ]\n",
    "\n",
    "TEST_HAND = './test/df_hand_test.csv'"
   ]
  },
  {
   "cell_type": "markdown",
   "metadata": {},
   "source": [
    "### Automatic measured pressure\n"
   ]
  },
  {
   "cell_type": "code",
   "execution_count": null,
   "metadata": {},
   "outputs": [],
   "source": [
    "df_automatic_pressure = sensors.get_data(list_files_names=TESTS_FILES_NAMES,\n",
    "                                         structure_data=STRUCTURE_DATA, \n",
    "                                         file_name_df_hand=TEST_HAND)\n",
    "\n",
    "df_automatic_pressure = df_automatic_pressure.loc[:,df_automatic_pressure.columns.str.startswith('EDS')]"
   ]
  },
  {
   "cell_type": "code",
   "execution_count": null,
   "metadata": {},
   "outputs": [
    {
     "data": {
      "text/html": [
       "<div>\n",
       "<style scoped>\n",
       "    .dataframe tbody tr th:only-of-type {\n",
       "        vertical-align: middle;\n",
       "    }\n",
       "\n",
       "    .dataframe tbody tr th {\n",
       "        vertical-align: top;\n",
       "    }\n",
       "\n",
       "    .dataframe thead th {\n",
       "        text-align: right;\n",
       "    }\n",
       "</style>\n",
       "<table border=\"1\" class=\"dataframe\">\n",
       "  <thead>\n",
       "    <tr style=\"text-align: right;\">\n",
       "      <th></th>\n",
       "      <th>EDS_A</th>\n",
       "      <th>EDS_B</th>\n",
       "      <th>EDS_C</th>\n",
       "      <th>EDS_D</th>\n",
       "      <th>EDS_E</th>\n",
       "      <th>EDS_F</th>\n",
       "      <th>EDS_G</th>\n",
       "    </tr>\n",
       "  </thead>\n",
       "  <tbody>\n",
       "    <tr>\n",
       "      <th>2021-07-14 21:28:43.201370</th>\n",
       "      <td>-0.008392</td>\n",
       "      <td>0.443348</td>\n",
       "      <td>1.770932</td>\n",
       "      <td>NaN</td>\n",
       "      <td>-0.013005</td>\n",
       "      <td>-6.332109</td>\n",
       "      <td>0.583440</td>\n",
       "    </tr>\n",
       "    <tr>\n",
       "      <th>2021-07-12 03:26:24.418810</th>\n",
       "      <td>-0.020542</td>\n",
       "      <td>NaN</td>\n",
       "      <td>-0.043438</td>\n",
       "      <td>NaN</td>\n",
       "      <td>-0.013147</td>\n",
       "      <td>-6.065709</td>\n",
       "      <td>5.753562</td>\n",
       "    </tr>\n",
       "    <tr>\n",
       "      <th>2021-07-18 17:30:11.417100</th>\n",
       "      <td>0.011385</td>\n",
       "      <td>1.370416</td>\n",
       "      <td>2.557907</td>\n",
       "      <td>NaN</td>\n",
       "      <td>0.001380</td>\n",
       "      <td>-6.130448</td>\n",
       "      <td>-3.851498</td>\n",
       "    </tr>\n",
       "    <tr>\n",
       "      <th>2021-07-15 19:29:03.205130</th>\n",
       "      <td>-0.003976</td>\n",
       "      <td>NaN</td>\n",
       "      <td>2.221444</td>\n",
       "      <td>NaN</td>\n",
       "      <td>-0.013358</td>\n",
       "      <td>-6.334587</td>\n",
       "      <td>-1.914825</td>\n",
       "    </tr>\n",
       "    <tr>\n",
       "      <th>2021-07-08 19:25:08.005130</th>\n",
       "      <td>-0.015499</td>\n",
       "      <td>3.369134</td>\n",
       "      <td>-0.038738</td>\n",
       "      <td>NaN</td>\n",
       "      <td>0.003474</td>\n",
       "      <td>-6.159601</td>\n",
       "      <td>-0.020800</td>\n",
       "    </tr>\n",
       "    <tr>\n",
       "      <th>2021-07-20 13:30:52.624630</th>\n",
       "      <td>0.017093</td>\n",
       "      <td>4.470687</td>\n",
       "      <td>2.422170</td>\n",
       "      <td>NaN</td>\n",
       "      <td>0.000345</td>\n",
       "      <td>-6.302468</td>\n",
       "      <td>-4.388151</td>\n",
       "    </tr>\n",
       "    <tr>\n",
       "      <th>2021-08-18 00:00:00.000000</th>\n",
       "      <td>NaN</td>\n",
       "      <td>NaN</td>\n",
       "      <td>NaN</td>\n",
       "      <td>NaN</td>\n",
       "      <td>NaN</td>\n",
       "      <td>NaN</td>\n",
       "      <td>NaN</td>\n",
       "    </tr>\n",
       "    <tr>\n",
       "      <th>2021-07-19 13:30:29.620520</th>\n",
       "      <td>0.018375</td>\n",
       "      <td>4.841653</td>\n",
       "      <td>2.529231</td>\n",
       "      <td>NaN</td>\n",
       "      <td>0.004594</td>\n",
       "      <td>-6.092389</td>\n",
       "      <td>-3.946954</td>\n",
       "    </tr>\n",
       "    <tr>\n",
       "      <th>2021-07-17 15:29:46.812660</th>\n",
       "      <td>0.010717</td>\n",
       "      <td>0.998889</td>\n",
       "      <td>2.490023</td>\n",
       "      <td>NaN</td>\n",
       "      <td>0.006505</td>\n",
       "      <td>-6.300282</td>\n",
       "      <td>-3.930138</td>\n",
       "    </tr>\n",
       "    <tr>\n",
       "      <th>2021-07-08 14:25:04.204280</th>\n",
       "      <td>0.007363</td>\n",
       "      <td>1.635157</td>\n",
       "      <td>-0.019435</td>\n",
       "      <td>NaN</td>\n",
       "      <td>0.025754</td>\n",
       "      <td>-6.187036</td>\n",
       "      <td>-0.024776</td>\n",
       "    </tr>\n",
       "  </tbody>\n",
       "</table>\n",
       "</div>"
      ],
      "text/plain": [
       "                               EDS_A     EDS_B  ...     EDS_F     EDS_G\n",
       "2021-07-14 21:28:43.201370 -0.008392  0.443348  ... -6.332109  0.583440\n",
       "2021-07-12 03:26:24.418810 -0.020542       NaN  ... -6.065709  5.753562\n",
       "2021-07-18 17:30:11.417100  0.011385  1.370416  ... -6.130448 -3.851498\n",
       "2021-07-15 19:29:03.205130 -0.003976       NaN  ... -6.334587 -1.914825\n",
       "2021-07-08 19:25:08.005130 -0.015499  3.369134  ... -6.159601 -0.020800\n",
       "2021-07-20 13:30:52.624630  0.017093  4.470687  ... -6.302468 -4.388151\n",
       "2021-08-18 00:00:00.000000       NaN       NaN  ...       NaN       NaN\n",
       "2021-07-19 13:30:29.620520  0.018375  4.841653  ... -6.092389 -3.946954\n",
       "2021-07-17 15:29:46.812660  0.010717  0.998889  ... -6.300282 -3.930138\n",
       "2021-07-08 14:25:04.204280  0.007363  1.635157  ... -6.187036 -0.024776\n",
       "\n",
       "[10 rows x 7 columns]"
      ]
     },
     "execution_count": null,
     "metadata": {},
     "output_type": "execute_result"
    }
   ],
   "source": [
    "df_automatic_pressure.sample(10, random_state=0)"
   ]
  },
  {
   "cell_type": "code",
   "execution_count": null,
   "metadata": {},
   "outputs": [
    {
     "data": {
      "text/plain": [
       "(128, 7)"
      ]
     },
     "execution_count": null,
     "metadata": {},
     "output_type": "execute_result"
    }
   ],
   "source": [
    "df_automatic_pressure.shape"
   ]
  },
  {
   "cell_type": "code",
   "execution_count": null,
   "metadata": {},
   "outputs": [
    {
     "data": {
      "text/plain": [
       "(0, 7)"
      ]
     },
     "execution_count": null,
     "metadata": {},
     "output_type": "execute_result"
    }
   ],
   "source": [
    "df2 = df_automatic_pressure.dropna()\n",
    "df2.shape"
   ]
  },
  {
   "cell_type": "markdown",
   "metadata": {},
   "source": [
    "## Read files"
   ]
  },
  {
   "cell_type": "markdown",
   "metadata": {},
   "source": [
    "### Read raw data"
   ]
  },
  {
   "cell_type": "code",
   "execution_count": null,
   "metadata": {},
   "outputs": [],
   "source": [
    "#export\n",
    "def construct_df_csv(file_name):\n",
    "  df = pd.read_csv(file_name, delimiter=';')\n",
    "\n",
    "  #remove empty lines and columns\n",
    "  df = df.dropna(how='all')\n",
    "  df = df.dropna(how='all', axis='columns')\n",
    "  \n",
    "  return df"
   ]
  },
  {
   "cell_type": "code",
   "execution_count": null,
   "metadata": {},
   "outputs": [
    {
     "data": {
      "text/html": [
       "<div>\n",
       "<style scoped>\n",
       "    .dataframe tbody tr th:only-of-type {\n",
       "        vertical-align: middle;\n",
       "    }\n",
       "\n",
       "    .dataframe tbody tr th {\n",
       "        vertical-align: top;\n",
       "    }\n",
       "\n",
       "    .dataframe thead th {\n",
       "        text-align: right;\n",
       "    }\n",
       "</style>\n",
       "<table border=\"1\" class=\"dataframe\">\n",
       "  <thead>\n",
       "    <tr style=\"text-align: right;\">\n",
       "      <th></th>\n",
       "      <th>Datum</th>\n",
       "      <th>Zeit</th>\n",
       "      <th>Tiefe/Top Spundwand [m]</th>\n",
       "      <th>Temp [°C]</th>\n",
       "    </tr>\n",
       "  </thead>\n",
       "  <tbody>\n",
       "    <tr>\n",
       "      <th>0</th>\n",
       "      <td>06.07.2021</td>\n",
       "      <td>10:21:00</td>\n",
       "      <td>2.20</td>\n",
       "      <td>14.4</td>\n",
       "    </tr>\n",
       "    <tr>\n",
       "      <th>1</th>\n",
       "      <td>07.07.2021</td>\n",
       "      <td>12:00:00</td>\n",
       "      <td>2.15</td>\n",
       "      <td>17.3</td>\n",
       "    </tr>\n",
       "    <tr>\n",
       "      <th>2</th>\n",
       "      <td>14.07.2021</td>\n",
       "      <td>10:30:00</td>\n",
       "      <td>1.92</td>\n",
       "      <td>14.5</td>\n",
       "    </tr>\n",
       "    <tr>\n",
       "      <th>3</th>\n",
       "      <td>21.07.2021</td>\n",
       "      <td>09:30:00</td>\n",
       "      <td>3.33</td>\n",
       "      <td>13.1</td>\n",
       "    </tr>\n",
       "    <tr>\n",
       "      <th>4</th>\n",
       "      <td>28.07.2021</td>\n",
       "      <td>10:00:00</td>\n",
       "      <td>2.11</td>\n",
       "      <td>12.3</td>\n",
       "    </tr>\n",
       "    <tr>\n",
       "      <th>5</th>\n",
       "      <td>05.08.2021</td>\n",
       "      <td>09:00:00</td>\n",
       "      <td>2.02</td>\n",
       "      <td>13.0</td>\n",
       "    </tr>\n",
       "    <tr>\n",
       "      <th>6</th>\n",
       "      <td>11.08.2021</td>\n",
       "      <td>09:00:00</td>\n",
       "      <td>2.43</td>\n",
       "      <td>14.8</td>\n",
       "    </tr>\n",
       "    <tr>\n",
       "      <th>7</th>\n",
       "      <td>18.08.2021</td>\n",
       "      <td>09:30:00</td>\n",
       "      <td>2.40</td>\n",
       "      <td>18.0</td>\n",
       "    </tr>\n",
       "    <tr>\n",
       "      <th>8</th>\n",
       "      <td>25.08.2021</td>\n",
       "      <td>11:10:00</td>\n",
       "      <td>2.62</td>\n",
       "      <td>13.6</td>\n",
       "    </tr>\n",
       "  </tbody>\n",
       "</table>\n",
       "</div>"
      ],
      "text/plain": [
       "        Datum      Zeit  Tiefe/Top Spundwand [m]  Temp [°C]\n",
       "0  06.07.2021  10:21:00                     2.20       14.4\n",
       "1  07.07.2021  12:00:00                     2.15       17.3\n",
       "2  14.07.2021  10:30:00                     1.92       14.5\n",
       "3  21.07.2021  09:30:00                     3.33       13.1\n",
       "4  28.07.2021  10:00:00                     2.11       12.3\n",
       "5  05.08.2021  09:00:00                     2.02       13.0\n",
       "6  11.08.2021  09:00:00                     2.43       14.8\n",
       "7  18.08.2021  09:30:00                     2.40       18.0\n",
       "8  25.08.2021  11:10:00                     2.62       13.6"
      ]
     },
     "execution_count": null,
     "metadata": {},
     "output_type": "execute_result"
    }
   ],
   "source": [
    "# example\n",
    "df_piezo = construct_df_csv(PIEZO_FILE_NAME_TEST)\n",
    "df_piezo"
   ]
  },
  {
   "cell_type": "code",
   "execution_count": null,
   "metadata": {},
   "outputs": [
    {
     "data": {
      "text/html": [
       "<div>\n",
       "<style scoped>\n",
       "    .dataframe tbody tr th:only-of-type {\n",
       "        vertical-align: middle;\n",
       "    }\n",
       "\n",
       "    .dataframe tbody tr th {\n",
       "        vertical-align: top;\n",
       "    }\n",
       "\n",
       "    .dataframe thead th {\n",
       "        text-align: right;\n",
       "    }\n",
       "</style>\n",
       "<table border=\"1\" class=\"dataframe\">\n",
       "  <thead>\n",
       "    <tr style=\"text-align: right;\">\n",
       "      <th></th>\n",
       "      <th>Datum</th>\n",
       "      <th>Zeit</th>\n",
       "      <th>Aushubstiefe/Verklebtebohlen [m]</th>\n",
       "      <th>Aushubstiefe/Einzelbohlen [m]</th>\n",
       "      <th>Tiefe/Aktivenseite [m]</th>\n",
       "    </tr>\n",
       "  </thead>\n",
       "  <tbody>\n",
       "    <tr>\n",
       "      <th>0</th>\n",
       "      <td>07.07.2021</td>\n",
       "      <td>07:30:00</td>\n",
       "      <td>1.1</td>\n",
       "      <td>1.1</td>\n",
       "      <td>1.0</td>\n",
       "    </tr>\n",
       "    <tr>\n",
       "      <th>1</th>\n",
       "      <td>21.07.2021</td>\n",
       "      <td>07:30:00</td>\n",
       "      <td>1.1</td>\n",
       "      <td>1.1</td>\n",
       "      <td>0.5</td>\n",
       "    </tr>\n",
       "    <tr>\n",
       "      <th>2</th>\n",
       "      <td>28.07.2021</td>\n",
       "      <td>08:30:00</td>\n",
       "      <td>1.8</td>\n",
       "      <td>1.1</td>\n",
       "      <td>0.5</td>\n",
       "    </tr>\n",
       "    <tr>\n",
       "      <th>3</th>\n",
       "      <td>18.08.2021</td>\n",
       "      <td>09:30:00</td>\n",
       "      <td>1.8</td>\n",
       "      <td>1.1</td>\n",
       "      <td>0.5</td>\n",
       "    </tr>\n",
       "    <tr>\n",
       "      <th>4</th>\n",
       "      <td>25.08.2021</td>\n",
       "      <td>10:30:00</td>\n",
       "      <td>1.8</td>\n",
       "      <td>1.1</td>\n",
       "      <td>0.5</td>\n",
       "    </tr>\n",
       "  </tbody>\n",
       "</table>\n",
       "</div>"
      ],
      "text/plain": [
       "        Datum      Zeit  ...  Aushubstiefe/Einzelbohlen [m]  Tiefe/Aktivenseite [m]\n",
       "0  07.07.2021  07:30:00  ...                            1.1                     1.0\n",
       "1  21.07.2021  07:30:00  ...                            1.1                     0.5\n",
       "2  28.07.2021  08:30:00  ...                            1.1                     0.5\n",
       "3  18.08.2021  09:30:00  ...                            1.1                     0.5\n",
       "4  25.08.2021  10:30:00  ...                            1.1                     0.5\n",
       "\n",
       "[5 rows x 5 columns]"
      ]
     },
     "execution_count": null,
     "metadata": {},
     "output_type": "execute_result"
    }
   ],
   "source": [
    "# example\n",
    "df_excavation = construct_df_csv(EXCAVATION_FILE_NAME_TEST)\n",
    "df_excavation"
   ]
  },
  {
   "cell_type": "markdown",
   "metadata": {},
   "source": [
    "### Clean data"
   ]
  },
  {
   "cell_type": "code",
   "execution_count": null,
   "metadata": {},
   "outputs": [],
   "source": [
    "#export\n",
    "def clean(df):\n",
    "  \n",
    "  # dtypes\n",
    "  df['date'] = pd.to_datetime(df['Datum'], format='%d.%m.%Y')\n",
    "\n",
    "  # remove 'Zeit' and 'Datum'\n",
    "  df = df.drop(columns=['Datum', 'Zeit'])\n",
    "\n",
    "  df = df.set_index('date')\n",
    "\n",
    "  return df"
   ]
  },
  {
   "cell_type": "code",
   "execution_count": null,
   "metadata": {},
   "outputs": [
    {
     "data": {
      "text/plain": [
       "Tiefe/Top Spundwand [m]    float64\n",
       "Temp [°C]                  float64\n",
       "dtype: object"
      ]
     },
     "execution_count": null,
     "metadata": {},
     "output_type": "execute_result"
    }
   ],
   "source": [
    "# example\n",
    "df_piezo = clean(df_piezo)\n",
    "df_piezo.dtypes"
   ]
  },
  {
   "cell_type": "code",
   "execution_count": null,
   "metadata": {},
   "outputs": [
    {
     "data": {
      "text/plain": [
       "Aushubstiefe/Verklebtebohlen [m]    float64\n",
       "Aushubstiefe/Einzelbohlen [m]       float64\n",
       "Tiefe/Aktivenseite [m]              float64\n",
       "dtype: object"
      ]
     },
     "execution_count": null,
     "metadata": {},
     "output_type": "execute_result"
    }
   ],
   "source": [
    "# example\n",
    "df_excavation= clean(df_excavation)\n",
    "df_excavation.dtypes"
   ]
  },
  {
   "cell_type": "code",
   "execution_count": null,
   "metadata": {},
   "outputs": [],
   "source": [
    "# test\n",
    "for df in df_piezo, df_excavation:\n",
    "  assert pd.api.types.is_datetime64_any_dtype(df.index)\n",
    "  assert 'Datum' not in df.columns\n",
    "  assert 'Zeit' not in df.columns\n",
    "\n",
    "assert pd.api.types.is_float_dtype(df_excavation['Aushubstiefe/Verklebtebohlen [m]'])\n",
    "assert pd.api.types.is_float_dtype(df_excavation['Aushubstiefe/Einzelbohlen [m]'])\n",
    "\n",
    "assert pd.api.types.is_float_dtype(df_piezo['Tiefe/Top Spundwand [m]'])\n",
    "assert pd.api.types.is_float_dtype(df_piezo['Temp [°C]'])"
   ]
  },
  {
   "cell_type": "markdown",
   "metadata": {},
   "source": [
    "## Merge data"
   ]
  },
  {
   "cell_type": "markdown",
   "metadata": {},
   "source": [
    "### Manual measures"
   ]
  },
  {
   "cell_type": "markdown",
   "metadata": {},
   "source": [
    "All measures are depth in [m] from the top of the sheet piles"
   ]
  },
  {
   "cell_type": "markdown",
   "metadata": {},
   "source": [
    "#### Merge piezo and excavation"
   ]
  },
  {
   "cell_type": "code",
   "execution_count": null,
   "metadata": {},
   "outputs": [],
   "source": [
    "#export\n",
    "def merge_piezo_excavation(df_piezo, df_excavation):\n",
    "  df = df_piezo.join(df_excavation, how='outer')\n",
    "  return df"
   ]
  },
  {
   "cell_type": "code",
   "execution_count": null,
   "metadata": {},
   "outputs": [
    {
     "data": {
      "text/html": [
       "<div>\n",
       "<style scoped>\n",
       "    .dataframe tbody tr th:only-of-type {\n",
       "        vertical-align: middle;\n",
       "    }\n",
       "\n",
       "    .dataframe tbody tr th {\n",
       "        vertical-align: top;\n",
       "    }\n",
       "\n",
       "    .dataframe thead th {\n",
       "        text-align: right;\n",
       "    }\n",
       "</style>\n",
       "<table border=\"1\" class=\"dataframe\">\n",
       "  <thead>\n",
       "    <tr style=\"text-align: right;\">\n",
       "      <th></th>\n",
       "      <th>Tiefe/Top Spundwand [m]</th>\n",
       "      <th>Temp [°C]</th>\n",
       "      <th>Aushubstiefe/Verklebtebohlen [m]</th>\n",
       "      <th>Aushubstiefe/Einzelbohlen [m]</th>\n",
       "      <th>Tiefe/Aktivenseite [m]</th>\n",
       "    </tr>\n",
       "    <tr>\n",
       "      <th>date</th>\n",
       "      <th></th>\n",
       "      <th></th>\n",
       "      <th></th>\n",
       "      <th></th>\n",
       "      <th></th>\n",
       "    </tr>\n",
       "  </thead>\n",
       "  <tbody>\n",
       "    <tr>\n",
       "      <th>2021-07-06</th>\n",
       "      <td>2.20</td>\n",
       "      <td>14.4</td>\n",
       "      <td>NaN</td>\n",
       "      <td>NaN</td>\n",
       "      <td>NaN</td>\n",
       "    </tr>\n",
       "    <tr>\n",
       "      <th>2021-07-07</th>\n",
       "      <td>2.15</td>\n",
       "      <td>17.3</td>\n",
       "      <td>1.1</td>\n",
       "      <td>1.1</td>\n",
       "      <td>1.0</td>\n",
       "    </tr>\n",
       "    <tr>\n",
       "      <th>2021-07-14</th>\n",
       "      <td>1.92</td>\n",
       "      <td>14.5</td>\n",
       "      <td>NaN</td>\n",
       "      <td>NaN</td>\n",
       "      <td>NaN</td>\n",
       "    </tr>\n",
       "    <tr>\n",
       "      <th>2021-07-21</th>\n",
       "      <td>3.33</td>\n",
       "      <td>13.1</td>\n",
       "      <td>1.1</td>\n",
       "      <td>1.1</td>\n",
       "      <td>0.5</td>\n",
       "    </tr>\n",
       "    <tr>\n",
       "      <th>2021-07-28</th>\n",
       "      <td>2.11</td>\n",
       "      <td>12.3</td>\n",
       "      <td>1.8</td>\n",
       "      <td>1.1</td>\n",
       "      <td>0.5</td>\n",
       "    </tr>\n",
       "    <tr>\n",
       "      <th>2021-08-05</th>\n",
       "      <td>2.02</td>\n",
       "      <td>13.0</td>\n",
       "      <td>NaN</td>\n",
       "      <td>NaN</td>\n",
       "      <td>NaN</td>\n",
       "    </tr>\n",
       "    <tr>\n",
       "      <th>2021-08-11</th>\n",
       "      <td>2.43</td>\n",
       "      <td>14.8</td>\n",
       "      <td>NaN</td>\n",
       "      <td>NaN</td>\n",
       "      <td>NaN</td>\n",
       "    </tr>\n",
       "    <tr>\n",
       "      <th>2021-08-18</th>\n",
       "      <td>2.40</td>\n",
       "      <td>18.0</td>\n",
       "      <td>1.8</td>\n",
       "      <td>1.1</td>\n",
       "      <td>0.5</td>\n",
       "    </tr>\n",
       "    <tr>\n",
       "      <th>2021-08-25</th>\n",
       "      <td>2.62</td>\n",
       "      <td>13.6</td>\n",
       "      <td>1.8</td>\n",
       "      <td>1.1</td>\n",
       "      <td>0.5</td>\n",
       "    </tr>\n",
       "  </tbody>\n",
       "</table>\n",
       "</div>"
      ],
      "text/plain": [
       "            Tiefe/Top Spundwand [m]  ...  Tiefe/Aktivenseite [m]\n",
       "date                                 ...                        \n",
       "2021-07-06                     2.20  ...                     NaN\n",
       "2021-07-07                     2.15  ...                     1.0\n",
       "2021-07-14                     1.92  ...                     NaN\n",
       "2021-07-21                     3.33  ...                     0.5\n",
       "2021-07-28                     2.11  ...                     0.5\n",
       "2021-08-05                     2.02  ...                     NaN\n",
       "2021-08-11                     2.43  ...                     NaN\n",
       "2021-08-18                     2.40  ...                     0.5\n",
       "2021-08-25                     2.62  ...                     0.5\n",
       "\n",
       "[9 rows x 5 columns]"
      ]
     },
     "execution_count": null,
     "metadata": {},
     "output_type": "execute_result"
    }
   ],
   "source": [
    "# example\n",
    "df_manual = merge_piezo_excavation(df_piezo, df_excavation)\n",
    "df_manual"
   ]
  },
  {
   "cell_type": "markdown",
   "metadata": {},
   "source": [
    "#### Clean manual measures"
   ]
  },
  {
   "cell_type": "code",
   "execution_count": null,
   "metadata": {},
   "outputs": [],
   "source": [
    "#export\n",
    "def clean_manual_df(df):\n",
    "  df['GWT [m]'] = df['Tiefe/Top Spundwand [m]']\n",
    "  df = df.drop(columns=['Tiefe/Top Spundwand [m]'])\n",
    "  return df"
   ]
  },
  {
   "cell_type": "code",
   "execution_count": null,
   "metadata": {},
   "outputs": [
    {
     "data": {
      "text/html": [
       "<div>\n",
       "<style scoped>\n",
       "    .dataframe tbody tr th:only-of-type {\n",
       "        vertical-align: middle;\n",
       "    }\n",
       "\n",
       "    .dataframe tbody tr th {\n",
       "        vertical-align: top;\n",
       "    }\n",
       "\n",
       "    .dataframe thead th {\n",
       "        text-align: right;\n",
       "    }\n",
       "</style>\n",
       "<table border=\"1\" class=\"dataframe\">\n",
       "  <thead>\n",
       "    <tr style=\"text-align: right;\">\n",
       "      <th></th>\n",
       "      <th>Temp [°C]</th>\n",
       "      <th>Aushubstiefe/Verklebtebohlen [m]</th>\n",
       "      <th>Aushubstiefe/Einzelbohlen [m]</th>\n",
       "      <th>Tiefe/Aktivenseite [m]</th>\n",
       "      <th>GWT [m]</th>\n",
       "    </tr>\n",
       "    <tr>\n",
       "      <th>date</th>\n",
       "      <th></th>\n",
       "      <th></th>\n",
       "      <th></th>\n",
       "      <th></th>\n",
       "      <th></th>\n",
       "    </tr>\n",
       "  </thead>\n",
       "  <tbody>\n",
       "    <tr>\n",
       "      <th>2021-07-06</th>\n",
       "      <td>14.4</td>\n",
       "      <td>NaN</td>\n",
       "      <td>NaN</td>\n",
       "      <td>NaN</td>\n",
       "      <td>2.20</td>\n",
       "    </tr>\n",
       "    <tr>\n",
       "      <th>2021-07-07</th>\n",
       "      <td>17.3</td>\n",
       "      <td>1.1</td>\n",
       "      <td>1.1</td>\n",
       "      <td>1.0</td>\n",
       "      <td>2.15</td>\n",
       "    </tr>\n",
       "    <tr>\n",
       "      <th>2021-07-14</th>\n",
       "      <td>14.5</td>\n",
       "      <td>NaN</td>\n",
       "      <td>NaN</td>\n",
       "      <td>NaN</td>\n",
       "      <td>1.92</td>\n",
       "    </tr>\n",
       "    <tr>\n",
       "      <th>2021-07-21</th>\n",
       "      <td>13.1</td>\n",
       "      <td>1.1</td>\n",
       "      <td>1.1</td>\n",
       "      <td>0.5</td>\n",
       "      <td>3.33</td>\n",
       "    </tr>\n",
       "    <tr>\n",
       "      <th>2021-07-28</th>\n",
       "      <td>12.3</td>\n",
       "      <td>1.8</td>\n",
       "      <td>1.1</td>\n",
       "      <td>0.5</td>\n",
       "      <td>2.11</td>\n",
       "    </tr>\n",
       "    <tr>\n",
       "      <th>2021-08-05</th>\n",
       "      <td>13.0</td>\n",
       "      <td>NaN</td>\n",
       "      <td>NaN</td>\n",
       "      <td>NaN</td>\n",
       "      <td>2.02</td>\n",
       "    </tr>\n",
       "    <tr>\n",
       "      <th>2021-08-11</th>\n",
       "      <td>14.8</td>\n",
       "      <td>NaN</td>\n",
       "      <td>NaN</td>\n",
       "      <td>NaN</td>\n",
       "      <td>2.43</td>\n",
       "    </tr>\n",
       "    <tr>\n",
       "      <th>2021-08-18</th>\n",
       "      <td>18.0</td>\n",
       "      <td>1.8</td>\n",
       "      <td>1.1</td>\n",
       "      <td>0.5</td>\n",
       "      <td>2.40</td>\n",
       "    </tr>\n",
       "    <tr>\n",
       "      <th>2021-08-25</th>\n",
       "      <td>13.6</td>\n",
       "      <td>1.8</td>\n",
       "      <td>1.1</td>\n",
       "      <td>0.5</td>\n",
       "      <td>2.62</td>\n",
       "    </tr>\n",
       "  </tbody>\n",
       "</table>\n",
       "</div>"
      ],
      "text/plain": [
       "            Temp [°C]  ...  GWT [m]\n",
       "date                   ...         \n",
       "2021-07-06       14.4  ...     2.20\n",
       "2021-07-07       17.3  ...     2.15\n",
       "2021-07-14       14.5  ...     1.92\n",
       "2021-07-21       13.1  ...     3.33\n",
       "2021-07-28       12.3  ...     2.11\n",
       "2021-08-05       13.0  ...     2.02\n",
       "2021-08-11       14.8  ...     2.43\n",
       "2021-08-18       18.0  ...     2.40\n",
       "2021-08-25       13.6  ...     2.62\n",
       "\n",
       "[9 rows x 5 columns]"
      ]
     },
     "execution_count": null,
     "metadata": {},
     "output_type": "execute_result"
    }
   ],
   "source": [
    "# example\n",
    "df_manual = clean_manual_df(df_manual)\n",
    "df_manual"
   ]
  },
  {
   "cell_type": "code",
   "execution_count": null,
   "metadata": {},
   "outputs": [],
   "source": [
    "# test\n",
    "assert df_manual['GWT [m]']['2021-07-06'] == 2.2"
   ]
  },
  {
   "cell_type": "markdown",
   "metadata": {},
   "source": [
    "#### Interpolate excavation"
   ]
  },
  {
   "cell_type": "code",
   "execution_count": null,
   "metadata": {},
   "outputs": [],
   "source": [
    "#export\n",
    "def interpolate_excavation(df):\n",
    "  df = df.fillna(method='bfill')\n",
    "  return df"
   ]
  },
  {
   "cell_type": "code",
   "execution_count": null,
   "metadata": {},
   "outputs": [
    {
     "data": {
      "text/html": [
       "<div>\n",
       "<style scoped>\n",
       "    .dataframe tbody tr th:only-of-type {\n",
       "        vertical-align: middle;\n",
       "    }\n",
       "\n",
       "    .dataframe tbody tr th {\n",
       "        vertical-align: top;\n",
       "    }\n",
       "\n",
       "    .dataframe thead th {\n",
       "        text-align: right;\n",
       "    }\n",
       "</style>\n",
       "<table border=\"1\" class=\"dataframe\">\n",
       "  <thead>\n",
       "    <tr style=\"text-align: right;\">\n",
       "      <th></th>\n",
       "      <th>Temp [°C]</th>\n",
       "      <th>Aushubstiefe/Verklebtebohlen [m]</th>\n",
       "      <th>Aushubstiefe/Einzelbohlen [m]</th>\n",
       "      <th>Tiefe/Aktivenseite [m]</th>\n",
       "      <th>GWT [m]</th>\n",
       "    </tr>\n",
       "    <tr>\n",
       "      <th>date</th>\n",
       "      <th></th>\n",
       "      <th></th>\n",
       "      <th></th>\n",
       "      <th></th>\n",
       "      <th></th>\n",
       "    </tr>\n",
       "  </thead>\n",
       "  <tbody>\n",
       "    <tr>\n",
       "      <th>2021-07-06</th>\n",
       "      <td>14.4</td>\n",
       "      <td>1.1</td>\n",
       "      <td>1.1</td>\n",
       "      <td>1.0</td>\n",
       "      <td>2.20</td>\n",
       "    </tr>\n",
       "    <tr>\n",
       "      <th>2021-07-07</th>\n",
       "      <td>17.3</td>\n",
       "      <td>1.1</td>\n",
       "      <td>1.1</td>\n",
       "      <td>1.0</td>\n",
       "      <td>2.15</td>\n",
       "    </tr>\n",
       "    <tr>\n",
       "      <th>2021-07-14</th>\n",
       "      <td>14.5</td>\n",
       "      <td>1.1</td>\n",
       "      <td>1.1</td>\n",
       "      <td>0.5</td>\n",
       "      <td>1.92</td>\n",
       "    </tr>\n",
       "    <tr>\n",
       "      <th>2021-07-21</th>\n",
       "      <td>13.1</td>\n",
       "      <td>1.1</td>\n",
       "      <td>1.1</td>\n",
       "      <td>0.5</td>\n",
       "      <td>3.33</td>\n",
       "    </tr>\n",
       "    <tr>\n",
       "      <th>2021-07-28</th>\n",
       "      <td>12.3</td>\n",
       "      <td>1.8</td>\n",
       "      <td>1.1</td>\n",
       "      <td>0.5</td>\n",
       "      <td>2.11</td>\n",
       "    </tr>\n",
       "    <tr>\n",
       "      <th>2021-08-05</th>\n",
       "      <td>13.0</td>\n",
       "      <td>1.8</td>\n",
       "      <td>1.1</td>\n",
       "      <td>0.5</td>\n",
       "      <td>2.02</td>\n",
       "    </tr>\n",
       "    <tr>\n",
       "      <th>2021-08-11</th>\n",
       "      <td>14.8</td>\n",
       "      <td>1.8</td>\n",
       "      <td>1.1</td>\n",
       "      <td>0.5</td>\n",
       "      <td>2.43</td>\n",
       "    </tr>\n",
       "    <tr>\n",
       "      <th>2021-08-18</th>\n",
       "      <td>18.0</td>\n",
       "      <td>1.8</td>\n",
       "      <td>1.1</td>\n",
       "      <td>0.5</td>\n",
       "      <td>2.40</td>\n",
       "    </tr>\n",
       "    <tr>\n",
       "      <th>2021-08-25</th>\n",
       "      <td>13.6</td>\n",
       "      <td>1.8</td>\n",
       "      <td>1.1</td>\n",
       "      <td>0.5</td>\n",
       "      <td>2.62</td>\n",
       "    </tr>\n",
       "  </tbody>\n",
       "</table>\n",
       "</div>"
      ],
      "text/plain": [
       "            Temp [°C]  ...  GWT [m]\n",
       "date                   ...         \n",
       "2021-07-06       14.4  ...     2.20\n",
       "2021-07-07       17.3  ...     2.15\n",
       "2021-07-14       14.5  ...     1.92\n",
       "2021-07-21       13.1  ...     3.33\n",
       "2021-07-28       12.3  ...     2.11\n",
       "2021-08-05       13.0  ...     2.02\n",
       "2021-08-11       14.8  ...     2.43\n",
       "2021-08-18       18.0  ...     2.40\n",
       "2021-08-25       13.6  ...     2.62\n",
       "\n",
       "[9 rows x 5 columns]"
      ]
     },
     "execution_count": null,
     "metadata": {},
     "output_type": "execute_result"
    }
   ],
   "source": [
    "# example\n",
    "df_manual = interpolate_excavation(df_manual)\n",
    "df_manual"
   ]
  },
  {
   "cell_type": "code",
   "execution_count": null,
   "metadata": {},
   "outputs": [],
   "source": [
    "# test\n",
    "assert df_manual['Aushubstiefe/Verklebtebohlen [m]']['2021-07-06'] == 1.1\n",
    "assert df_manual['Aushubstiefe/Einzelbohlen [m]']['2021-07-06'] == 1.1"
   ]
  },
  {
   "cell_type": "markdown",
   "metadata": {},
   "source": [
    "#### Get manual dataframe"
   ]
  },
  {
   "cell_type": "code",
   "execution_count": null,
   "metadata": {},
   "outputs": [],
   "source": [
    "#export\n",
    "def get_manual_data(piezo_file_name, excavation_file_name):\n",
    "  df_piezo = construct_df_csv(piezo_file_name)\n",
    "  df_piezo = clean(df_piezo)\n",
    "\n",
    "  df_excavation = construct_df_csv(excavation_file_name)\n",
    "  df_excavation = clean(df_excavation)\n",
    "\n",
    "  df = merge_piezo_excavation(df_piezo, df_excavation)\n",
    "  df = clean_manual_df(df)\n",
    "  df = interpolate_excavation(df)\n",
    "\n",
    "  return df"
   ]
  },
  {
   "cell_type": "code",
   "execution_count": null,
   "metadata": {},
   "outputs": [
    {
     "data": {
      "text/html": [
       "<div>\n",
       "<style scoped>\n",
       "    .dataframe tbody tr th:only-of-type {\n",
       "        vertical-align: middle;\n",
       "    }\n",
       "\n",
       "    .dataframe tbody tr th {\n",
       "        vertical-align: top;\n",
       "    }\n",
       "\n",
       "    .dataframe thead th {\n",
       "        text-align: right;\n",
       "    }\n",
       "</style>\n",
       "<table border=\"1\" class=\"dataframe\">\n",
       "  <thead>\n",
       "    <tr style=\"text-align: right;\">\n",
       "      <th></th>\n",
       "      <th>Temp [°C]</th>\n",
       "      <th>Aushubstiefe/Verklebtebohlen [m]</th>\n",
       "      <th>Aushubstiefe/Einzelbohlen [m]</th>\n",
       "      <th>Tiefe/Aktivenseite [m]</th>\n",
       "      <th>GWT [m]</th>\n",
       "    </tr>\n",
       "    <tr>\n",
       "      <th>date</th>\n",
       "      <th></th>\n",
       "      <th></th>\n",
       "      <th></th>\n",
       "      <th></th>\n",
       "      <th></th>\n",
       "    </tr>\n",
       "  </thead>\n",
       "  <tbody>\n",
       "    <tr>\n",
       "      <th>2021-07-06</th>\n",
       "      <td>14.4</td>\n",
       "      <td>1.1</td>\n",
       "      <td>1.1</td>\n",
       "      <td>1.0</td>\n",
       "      <td>2.20</td>\n",
       "    </tr>\n",
       "    <tr>\n",
       "      <th>2021-07-07</th>\n",
       "      <td>17.3</td>\n",
       "      <td>1.1</td>\n",
       "      <td>1.1</td>\n",
       "      <td>1.0</td>\n",
       "      <td>2.15</td>\n",
       "    </tr>\n",
       "    <tr>\n",
       "      <th>2021-07-14</th>\n",
       "      <td>14.5</td>\n",
       "      <td>1.1</td>\n",
       "      <td>1.1</td>\n",
       "      <td>0.5</td>\n",
       "      <td>1.92</td>\n",
       "    </tr>\n",
       "    <tr>\n",
       "      <th>2021-07-21</th>\n",
       "      <td>13.1</td>\n",
       "      <td>1.1</td>\n",
       "      <td>1.1</td>\n",
       "      <td>0.5</td>\n",
       "      <td>3.33</td>\n",
       "    </tr>\n",
       "    <tr>\n",
       "      <th>2021-07-28</th>\n",
       "      <td>12.3</td>\n",
       "      <td>1.8</td>\n",
       "      <td>1.1</td>\n",
       "      <td>0.5</td>\n",
       "      <td>2.11</td>\n",
       "    </tr>\n",
       "    <tr>\n",
       "      <th>2021-08-05</th>\n",
       "      <td>13.0</td>\n",
       "      <td>1.8</td>\n",
       "      <td>1.1</td>\n",
       "      <td>0.5</td>\n",
       "      <td>2.02</td>\n",
       "    </tr>\n",
       "    <tr>\n",
       "      <th>2021-08-11</th>\n",
       "      <td>14.8</td>\n",
       "      <td>1.8</td>\n",
       "      <td>1.1</td>\n",
       "      <td>0.5</td>\n",
       "      <td>2.43</td>\n",
       "    </tr>\n",
       "    <tr>\n",
       "      <th>2021-08-18</th>\n",
       "      <td>18.0</td>\n",
       "      <td>1.8</td>\n",
       "      <td>1.1</td>\n",
       "      <td>0.5</td>\n",
       "      <td>2.40</td>\n",
       "    </tr>\n",
       "    <tr>\n",
       "      <th>2021-08-25</th>\n",
       "      <td>13.6</td>\n",
       "      <td>1.8</td>\n",
       "      <td>1.1</td>\n",
       "      <td>0.5</td>\n",
       "      <td>2.62</td>\n",
       "    </tr>\n",
       "  </tbody>\n",
       "</table>\n",
       "</div>"
      ],
      "text/plain": [
       "            Temp [°C]  ...  GWT [m]\n",
       "date                   ...         \n",
       "2021-07-06       14.4  ...     2.20\n",
       "2021-07-07       17.3  ...     2.15\n",
       "2021-07-14       14.5  ...     1.92\n",
       "2021-07-21       13.1  ...     3.33\n",
       "2021-07-28       12.3  ...     2.11\n",
       "2021-08-05       13.0  ...     2.02\n",
       "2021-08-11       14.8  ...     2.43\n",
       "2021-08-18       18.0  ...     2.40\n",
       "2021-08-25       13.6  ...     2.62\n",
       "\n",
       "[9 rows x 5 columns]"
      ]
     },
     "execution_count": null,
     "metadata": {},
     "output_type": "execute_result"
    }
   ],
   "source": [
    "# example\n",
    "df_manual = get_manual_data(PIEZO_FILE_NAME_TEST, EXCAVATION_FILE_NAME_TEST)\n",
    "df_manual"
   ]
  },
  {
   "cell_type": "code",
   "execution_count": null,
   "metadata": {},
   "outputs": [
    {
     "data": {
      "text/html": [
       "<html>\n",
       "<head><meta charset=\"utf-8\" /></head>\n",
       "<body>\n",
       "    <div>\n",
       "            <script src=\"https://cdnjs.cloudflare.com/ajax/libs/mathjax/2.7.5/MathJax.js?config=TeX-AMS-MML_SVG\"></script><script type=\"text/javascript\">if (window.MathJax) {MathJax.Hub.Config({SVG: {font: \"STIX-Web\"}});}</script>\n",
       "                <script type=\"text/javascript\">window.PlotlyConfig = {MathJaxConfig: 'local'};</script>\n",
       "        <script src=\"https://cdn.plot.ly/plotly-latest.min.js\"></script>    \n",
       "            <div id=\"dab28cc6-a485-4e0a-8519-6961a31b3cc4\" class=\"plotly-graph-div\" style=\"height:525px; width:100%;\"></div>\n",
       "            <script type=\"text/javascript\">\n",
       "                \n",
       "                    window.PLOTLYENV=window.PLOTLYENV || {};\n",
       "                    \n",
       "                if (document.getElementById(\"dab28cc6-a485-4e0a-8519-6961a31b3cc4\")) {\n",
       "                    Plotly.newPlot(\n",
       "                        'dab28cc6-a485-4e0a-8519-6961a31b3cc4',\n",
       "                        [{\"marker\": {\"size\": 3}, \"mode\": \"lines+markers\", \"name\": \"Aushubstiefe/Verklebtebohlen [m]\", \"type\": \"scatter\", \"x\": [\"2021-07-06T00:00:00\", \"2021-07-07T00:00:00\", \"2021-07-14T00:00:00\", \"2021-07-21T00:00:00\", \"2021-07-28T00:00:00\", \"2021-08-05T00:00:00\", \"2021-08-11T00:00:00\", \"2021-08-18T00:00:00\", \"2021-08-25T00:00:00\"], \"y\": [1.1, 1.1, 1.1, 1.1, 1.8, 1.8, 1.8, 1.8, 1.8]}, {\"marker\": {\"size\": 3}, \"mode\": \"lines+markers\", \"name\": \"Aushubstiefe/Einzelbohlen [m]\", \"type\": \"scatter\", \"x\": [\"2021-07-06T00:00:00\", \"2021-07-07T00:00:00\", \"2021-07-14T00:00:00\", \"2021-07-21T00:00:00\", \"2021-07-28T00:00:00\", \"2021-08-05T00:00:00\", \"2021-08-11T00:00:00\", \"2021-08-18T00:00:00\", \"2021-08-25T00:00:00\"], \"y\": [1.1, 1.1, 1.1, 1.1, 1.1, 1.1, 1.1, 1.1, 1.1]}, {\"marker\": {\"size\": 3}, \"mode\": \"lines+markers\", \"name\": \"Tiefe/Aktivenseite [m]\", \"type\": \"scatter\", \"x\": [\"2021-07-06T00:00:00\", \"2021-07-07T00:00:00\", \"2021-07-14T00:00:00\", \"2021-07-21T00:00:00\", \"2021-07-28T00:00:00\", \"2021-08-05T00:00:00\", \"2021-08-11T00:00:00\", \"2021-08-18T00:00:00\", \"2021-08-25T00:00:00\"], \"y\": [1.0, 1.0, 0.5, 0.5, 0.5, 0.5, 0.5, 0.5, 0.5]}, {\"marker\": {\"size\": 3}, \"mode\": \"lines+markers\", \"name\": \"GWT [m]\", \"type\": \"scatter\", \"x\": [\"2021-07-06T00:00:00\", \"2021-07-07T00:00:00\", \"2021-07-14T00:00:00\", \"2021-07-21T00:00:00\", \"2021-07-28T00:00:00\", \"2021-08-05T00:00:00\", \"2021-08-11T00:00:00\", \"2021-08-18T00:00:00\", \"2021-08-25T00:00:00\"], \"y\": [2.2, 2.15, 1.92, 3.33, 2.11, 2.02, 2.43, 2.4, 2.62]}],\n",
       "                        {\"margin\": {\"b\": 30, \"l\": 30, \"r\": 30, \"t\": 50}, \"template\": {\"data\": {\"bar\": [{\"error_x\": {\"color\": \"#2a3f5f\"}, \"error_y\": {\"color\": \"#2a3f5f\"}, \"marker\": {\"line\": {\"color\": \"#E5ECF6\", \"width\": 0.5}}, \"type\": \"bar\"}], \"barpolar\": [{\"marker\": {\"line\": {\"color\": \"#E5ECF6\", \"width\": 0.5}}, \"type\": \"barpolar\"}], \"carpet\": [{\"aaxis\": {\"endlinecolor\": \"#2a3f5f\", \"gridcolor\": \"white\", \"linecolor\": \"white\", \"minorgridcolor\": \"white\", \"startlinecolor\": \"#2a3f5f\"}, \"baxis\": {\"endlinecolor\": \"#2a3f5f\", \"gridcolor\": \"white\", \"linecolor\": \"white\", \"minorgridcolor\": \"white\", \"startlinecolor\": \"#2a3f5f\"}, \"type\": \"carpet\"}], \"choropleth\": [{\"colorbar\": {\"outlinewidth\": 0, \"ticks\": \"\"}, \"type\": \"choropleth\"}], \"contour\": [{\"colorbar\": {\"outlinewidth\": 0, \"ticks\": \"\"}, \"colorscale\": [[0.0, \"#0d0887\"], [0.1111111111111111, \"#46039f\"], [0.2222222222222222, \"#7201a8\"], [0.3333333333333333, \"#9c179e\"], [0.4444444444444444, \"#bd3786\"], [0.5555555555555556, \"#d8576b\"], [0.6666666666666666, \"#ed7953\"], [0.7777777777777778, \"#fb9f3a\"], [0.8888888888888888, \"#fdca26\"], [1.0, \"#f0f921\"]], \"type\": \"contour\"}], \"contourcarpet\": [{\"colorbar\": {\"outlinewidth\": 0, \"ticks\": \"\"}, \"type\": \"contourcarpet\"}], \"heatmap\": [{\"colorbar\": {\"outlinewidth\": 0, \"ticks\": \"\"}, \"colorscale\": [[0.0, \"#0d0887\"], [0.1111111111111111, \"#46039f\"], [0.2222222222222222, \"#7201a8\"], [0.3333333333333333, \"#9c179e\"], [0.4444444444444444, \"#bd3786\"], [0.5555555555555556, \"#d8576b\"], [0.6666666666666666, \"#ed7953\"], [0.7777777777777778, \"#fb9f3a\"], [0.8888888888888888, \"#fdca26\"], [1.0, \"#f0f921\"]], \"type\": \"heatmap\"}], \"heatmapgl\": [{\"colorbar\": {\"outlinewidth\": 0, \"ticks\": \"\"}, \"colorscale\": [[0.0, \"#0d0887\"], [0.1111111111111111, \"#46039f\"], [0.2222222222222222, \"#7201a8\"], [0.3333333333333333, \"#9c179e\"], [0.4444444444444444, \"#bd3786\"], [0.5555555555555556, \"#d8576b\"], [0.6666666666666666, \"#ed7953\"], [0.7777777777777778, \"#fb9f3a\"], [0.8888888888888888, \"#fdca26\"], [1.0, \"#f0f921\"]], \"type\": \"heatmapgl\"}], \"histogram\": [{\"marker\": {\"colorbar\": {\"outlinewidth\": 0, \"ticks\": \"\"}}, \"type\": \"histogram\"}], \"histogram2d\": [{\"colorbar\": {\"outlinewidth\": 0, \"ticks\": \"\"}, \"colorscale\": [[0.0, \"#0d0887\"], [0.1111111111111111, \"#46039f\"], [0.2222222222222222, \"#7201a8\"], [0.3333333333333333, \"#9c179e\"], [0.4444444444444444, \"#bd3786\"], [0.5555555555555556, \"#d8576b\"], [0.6666666666666666, \"#ed7953\"], [0.7777777777777778, \"#fb9f3a\"], [0.8888888888888888, \"#fdca26\"], [1.0, \"#f0f921\"]], \"type\": \"histogram2d\"}], \"histogram2dcontour\": [{\"colorbar\": {\"outlinewidth\": 0, \"ticks\": \"\"}, \"colorscale\": [[0.0, \"#0d0887\"], [0.1111111111111111, \"#46039f\"], [0.2222222222222222, \"#7201a8\"], [0.3333333333333333, \"#9c179e\"], [0.4444444444444444, \"#bd3786\"], [0.5555555555555556, \"#d8576b\"], [0.6666666666666666, \"#ed7953\"], [0.7777777777777778, \"#fb9f3a\"], [0.8888888888888888, \"#fdca26\"], [1.0, \"#f0f921\"]], \"type\": \"histogram2dcontour\"}], \"mesh3d\": [{\"colorbar\": {\"outlinewidth\": 0, \"ticks\": \"\"}, \"type\": \"mesh3d\"}], \"parcoords\": [{\"line\": {\"colorbar\": {\"outlinewidth\": 0, \"ticks\": \"\"}}, \"type\": \"parcoords\"}], \"pie\": [{\"automargin\": true, \"type\": \"pie\"}], \"scatter\": [{\"marker\": {\"colorbar\": {\"outlinewidth\": 0, \"ticks\": \"\"}}, \"type\": \"scatter\"}], \"scatter3d\": [{\"line\": {\"colorbar\": {\"outlinewidth\": 0, \"ticks\": \"\"}}, \"marker\": {\"colorbar\": {\"outlinewidth\": 0, \"ticks\": \"\"}}, \"type\": \"scatter3d\"}], \"scattercarpet\": [{\"marker\": {\"colorbar\": {\"outlinewidth\": 0, \"ticks\": \"\"}}, \"type\": \"scattercarpet\"}], \"scattergeo\": [{\"marker\": {\"colorbar\": {\"outlinewidth\": 0, \"ticks\": \"\"}}, \"type\": \"scattergeo\"}], \"scattergl\": [{\"marker\": {\"colorbar\": {\"outlinewidth\": 0, \"ticks\": \"\"}}, \"type\": \"scattergl\"}], \"scattermapbox\": [{\"marker\": {\"colorbar\": {\"outlinewidth\": 0, \"ticks\": \"\"}}, \"type\": \"scattermapbox\"}], \"scatterpolar\": [{\"marker\": {\"colorbar\": {\"outlinewidth\": 0, \"ticks\": \"\"}}, \"type\": \"scatterpolar\"}], \"scatterpolargl\": [{\"marker\": {\"colorbar\": {\"outlinewidth\": 0, \"ticks\": \"\"}}, \"type\": \"scatterpolargl\"}], \"scatterternary\": [{\"marker\": {\"colorbar\": {\"outlinewidth\": 0, \"ticks\": \"\"}}, \"type\": \"scatterternary\"}], \"surface\": [{\"colorbar\": {\"outlinewidth\": 0, \"ticks\": \"\"}, \"colorscale\": [[0.0, \"#0d0887\"], [0.1111111111111111, \"#46039f\"], [0.2222222222222222, \"#7201a8\"], [0.3333333333333333, \"#9c179e\"], [0.4444444444444444, \"#bd3786\"], [0.5555555555555556, \"#d8576b\"], [0.6666666666666666, \"#ed7953\"], [0.7777777777777778, \"#fb9f3a\"], [0.8888888888888888, \"#fdca26\"], [1.0, \"#f0f921\"]], \"type\": \"surface\"}], \"table\": [{\"cells\": {\"fill\": {\"color\": \"#EBF0F8\"}, \"line\": {\"color\": \"white\"}}, \"header\": {\"fill\": {\"color\": \"#C8D4E3\"}, \"line\": {\"color\": \"white\"}}, \"type\": \"table\"}]}, \"layout\": {\"annotationdefaults\": {\"arrowcolor\": \"#2a3f5f\", \"arrowhead\": 0, \"arrowwidth\": 1}, \"coloraxis\": {\"colorbar\": {\"outlinewidth\": 0, \"ticks\": \"\"}}, \"colorscale\": {\"diverging\": [[0, \"#8e0152\"], [0.1, \"#c51b7d\"], [0.2, \"#de77ae\"], [0.3, \"#f1b6da\"], [0.4, \"#fde0ef\"], [0.5, \"#f7f7f7\"], [0.6, \"#e6f5d0\"], [0.7, \"#b8e186\"], [0.8, \"#7fbc41\"], [0.9, \"#4d9221\"], [1, \"#276419\"]], \"sequential\": [[0.0, \"#0d0887\"], [0.1111111111111111, \"#46039f\"], [0.2222222222222222, \"#7201a8\"], [0.3333333333333333, \"#9c179e\"], [0.4444444444444444, \"#bd3786\"], [0.5555555555555556, \"#d8576b\"], [0.6666666666666666, \"#ed7953\"], [0.7777777777777778, \"#fb9f3a\"], [0.8888888888888888, \"#fdca26\"], [1.0, \"#f0f921\"]], \"sequentialminus\": [[0.0, \"#0d0887\"], [0.1111111111111111, \"#46039f\"], [0.2222222222222222, \"#7201a8\"], [0.3333333333333333, \"#9c179e\"], [0.4444444444444444, \"#bd3786\"], [0.5555555555555556, \"#d8576b\"], [0.6666666666666666, \"#ed7953\"], [0.7777777777777778, \"#fb9f3a\"], [0.8888888888888888, \"#fdca26\"], [1.0, \"#f0f921\"]]}, \"colorway\": [\"#636efa\", \"#EF553B\", \"#00cc96\", \"#ab63fa\", \"#FFA15A\", \"#19d3f3\", \"#FF6692\", \"#B6E880\", \"#FF97FF\", \"#FECB52\"], \"font\": {\"color\": \"#2a3f5f\"}, \"geo\": {\"bgcolor\": \"white\", \"lakecolor\": \"white\", \"landcolor\": \"#E5ECF6\", \"showlakes\": true, \"showland\": true, \"subunitcolor\": \"white\"}, \"hoverlabel\": {\"align\": \"left\"}, \"hovermode\": \"closest\", \"mapbox\": {\"style\": \"light\"}, \"paper_bgcolor\": \"white\", \"plot_bgcolor\": \"#E5ECF6\", \"polar\": {\"angularaxis\": {\"gridcolor\": \"white\", \"linecolor\": \"white\", \"ticks\": \"\"}, \"bgcolor\": \"#E5ECF6\", \"radialaxis\": {\"gridcolor\": \"white\", \"linecolor\": \"white\", \"ticks\": \"\"}}, \"scene\": {\"xaxis\": {\"backgroundcolor\": \"#E5ECF6\", \"gridcolor\": \"white\", \"gridwidth\": 2, \"linecolor\": \"white\", \"showbackground\": true, \"ticks\": \"\", \"zerolinecolor\": \"white\"}, \"yaxis\": {\"backgroundcolor\": \"#E5ECF6\", \"gridcolor\": \"white\", \"gridwidth\": 2, \"linecolor\": \"white\", \"showbackground\": true, \"ticks\": \"\", \"zerolinecolor\": \"white\"}, \"zaxis\": {\"backgroundcolor\": \"#E5ECF6\", \"gridcolor\": \"white\", \"gridwidth\": 2, \"linecolor\": \"white\", \"showbackground\": true, \"ticks\": \"\", \"zerolinecolor\": \"white\"}}, \"shapedefaults\": {\"line\": {\"color\": \"#2a3f5f\"}}, \"ternary\": {\"aaxis\": {\"gridcolor\": \"white\", \"linecolor\": \"white\", \"ticks\": \"\"}, \"baxis\": {\"gridcolor\": \"white\", \"linecolor\": \"white\", \"ticks\": \"\"}, \"bgcolor\": \"#E5ECF6\", \"caxis\": {\"gridcolor\": \"white\", \"linecolor\": \"white\", \"ticks\": \"\"}}, \"title\": {\"x\": 0.05}, \"xaxis\": {\"automargin\": true, \"gridcolor\": \"white\", \"linecolor\": \"white\", \"ticks\": \"\", \"title\": {\"standoff\": 15}, \"zerolinecolor\": \"white\", \"zerolinewidth\": 2}, \"yaxis\": {\"automargin\": true, \"gridcolor\": \"white\", \"linecolor\": \"white\", \"ticks\": \"\", \"title\": {\"standoff\": 15}, \"zerolinecolor\": \"white\", \"zerolinewidth\": 2}}}, \"title\": {\"font\": {\"family\": \"Rockwell\", \"size\": 18}, \"text\": \"Manual data\"}, \"xaxis\": {\"title\": {\"text\": \"Date\"}}, \"yaxis\": {\"autorange\": \"reversed\", \"title\": {\"text\": \"Depth in m\"}}},\n",
       "                        {\"responsive\": true}\n",
       "                    ).then(function(){\n",
       "                            \n",
       "var gd = document.getElementById('dab28cc6-a485-4e0a-8519-6961a31b3cc4');\n",
       "var x = new MutationObserver(function (mutations, observer) {{\n",
       "        var display = window.getComputedStyle(gd).display;\n",
       "        if (!display || display === 'none') {{\n",
       "            console.log([gd, 'removed!']);\n",
       "            Plotly.purge(gd);\n",
       "            observer.disconnect();\n",
       "        }}\n",
       "}});\n",
       "\n",
       "// Listen for the removal of the full notebook cells\n",
       "var notebookContainer = gd.closest('#notebook-container');\n",
       "if (notebookContainer) {{\n",
       "    x.observe(notebookContainer, {childList: true});\n",
       "}}\n",
       "\n",
       "// Listen for the clearing of the current output cell\n",
       "var outputEl = gd.closest('.output');\n",
       "if (outputEl) {{\n",
       "    x.observe(outputEl, {childList: true});\n",
       "}}\n",
       "\n",
       "                        })\n",
       "                };\n",
       "                \n",
       "            </script>\n",
       "        </div>\n",
       "</body>\n",
       "</html>"
      ]
     },
     "metadata": {},
     "output_type": "display_data"
    }
   ],
   "source": [
    "# example\n",
    "fig = go.Figure()\n",
    "cols = df_manual.columns.drop('Temp [°C]')\n",
    "\n",
    "for col in cols:\n",
    "  fig.add_trace(\n",
    "      go.Scatter(x=df_manual.index, y=df_manual[col], \n",
    "                  name=col, \n",
    "                  mode='lines+markers', \n",
    "                  marker_size=3\n",
    "      )\n",
    "  )\n",
    "\n",
    "# Mise en page\n",
    "fig.update_layout(\n",
    "    margin=dict(l=30, r=30, t=50, b=30),\n",
    "    title='Manual data',\n",
    "    xaxis_title=\"Date\",\n",
    "    yaxis_title=\"Depth in m\",\n",
    "    title_font=dict(family=\"Rockwell\", size=18),\n",
    "    yaxis = dict(autorange=\"reversed\")\n",
    ")\n",
    "\n",
    "fig.show()"
   ]
  },
  {
   "cell_type": "markdown",
   "metadata": {},
   "source": [
    "### Merge manual and automatic measures"
   ]
  },
  {
   "cell_type": "markdown",
   "metadata": {},
   "source": [
    "#### Merging"
   ]
  },
  {
   "cell_type": "code",
   "execution_count": null,
   "metadata": {},
   "outputs": [],
   "source": [
    "#export\n",
    "def merge_manual_automatic(df_manual, df_automatic):\n",
    "  pass"
   ]
  },
  {
   "cell_type": "markdown",
   "metadata": {},
   "source": [
    "#### Clean"
   ]
  },
  {
   "cell_type": "code",
   "execution_count": null,
   "metadata": {},
   "outputs": [],
   "source": []
  },
  {
   "cell_type": "markdown",
   "metadata": {},
   "source": [
    "#### Interpolation"
   ]
  },
  {
   "cell_type": "code",
   "execution_count": null,
   "metadata": {},
   "outputs": [
    {
     "name": "stdout",
     "output_type": "stream",
     "text": [
      "Converted 01_sensors.ipynb.\n",
      "Converted 02_inclinometers.ipynb.\n",
      "Converted 03_pressures.ipynb.\n",
      "Converted index.ipynb.\n"
     ]
    }
   ],
   "source": [
    "#hide\n",
    "from nbdev.export import notebook2script; notebook2script()"
   ]
  }
 ],
 "metadata": {
  "kernelspec": {
   "display_name": "Python 3",
   "language": "python",
   "name": "python3"
  }
 },
 "nbformat": 4,
 "nbformat_minor": 0
}
